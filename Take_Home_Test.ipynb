{
 "cells": [
  {
   "cell_type": "markdown",
   "metadata": {},
   "source": [
    "# Load and inspect  data files:"
   ]
  },
  {
   "cell_type": "markdown",
   "metadata": {},
   "source": [
    "# 1/ ireland historical news\n",
    "Context\n",
    "This news dataset is a collection of 1.42 million news headlines published by The Irish Times based in Ireland.\n",
    "\n",
    "Created over 159 Years ago the agency provides a long term birds eye view of the happenings of Europe.\n",
    "\n",
    "Agency Website: https://www.irishtimes.com\n",
    "\n",
    "The historical reels can be explored thoroughly via the archives portal.\n",
    "\n",
    "Content\n",
    "Format: CSV ; 6 files\n",
    "\n",
    "1 publish_date: Date of the article being published in yyyyMMdd format\n",
    "2 headline_category: Category of the headline, Ascii, dot delimited, lowercase values\n",
    "3 headline_text: Text of the Headline in English\n",
    "Start Date: 1996-01-01 End Date: 2018-12-31\n",
    "\n",
    "Total Events: 1,425,460"
   ]
  },
  {
   "cell_type": "code",
   "execution_count": 1,
   "metadata": {},
   "outputs": [
    {
     "data": {
      "text/html": [
       "<div>\n",
       "<style scoped>\n",
       "    .dataframe tbody tr th:only-of-type {\n",
       "        vertical-align: middle;\n",
       "    }\n",
       "\n",
       "    .dataframe tbody tr th {\n",
       "        vertical-align: top;\n",
       "    }\n",
       "\n",
       "    .dataframe thead th {\n",
       "        text-align: right;\n",
       "    }\n",
       "</style>\n",
       "<table border=\"1\" class=\"dataframe\">\n",
       "  <thead>\n",
       "    <tr style=\"text-align: right;\">\n",
       "      <th></th>\n",
       "      <th>publish_date</th>\n",
       "      <th>headline_category</th>\n",
       "      <th>headline_text</th>\n",
       "    </tr>\n",
       "  </thead>\n",
       "  <tbody>\n",
       "    <tr>\n",
       "      <th>0</th>\n",
       "      <td>1996-01-02</td>\n",
       "      <td>news</td>\n",
       "      <td>UUP sees possibility of voting Major out</td>\n",
       "    </tr>\n",
       "    <tr>\n",
       "      <th>1</th>\n",
       "      <td>1996-01-02</td>\n",
       "      <td>news</td>\n",
       "      <td>Pubs targeted as curbs on smoking are extended</td>\n",
       "    </tr>\n",
       "    <tr>\n",
       "      <th>2</th>\n",
       "      <td>1996-01-02</td>\n",
       "      <td>news</td>\n",
       "      <td>Papers reveal secret links with O'Neill cabinet</td>\n",
       "    </tr>\n",
       "    <tr>\n",
       "      <th>3</th>\n",
       "      <td>1996-01-02</td>\n",
       "      <td>news</td>\n",
       "      <td>Domestic chaos as Italy takes EU presidency</td>\n",
       "    </tr>\n",
       "    <tr>\n",
       "      <th>4</th>\n",
       "      <td>1996-01-02</td>\n",
       "      <td>news</td>\n",
       "      <td>Learning about the star to which we owe life</td>\n",
       "    </tr>\n",
       "    <tr>\n",
       "      <th>5</th>\n",
       "      <td>1996-01-02</td>\n",
       "      <td>news</td>\n",
       "      <td>EU proposal for 'skills cards' to detail educa...</td>\n",
       "    </tr>\n",
       "    <tr>\n",
       "      <th>6</th>\n",
       "      <td>1996-01-02</td>\n",
       "      <td>news</td>\n",
       "      <td>Roads authority asked to switch to use of conc...</td>\n",
       "    </tr>\n",
       "    <tr>\n",
       "      <th>7</th>\n",
       "      <td>1996-01-02</td>\n",
       "      <td>news</td>\n",
       "      <td>UCD cancels intake into evening course</td>\n",
       "    </tr>\n",
       "    <tr>\n",
       "      <th>8</th>\n",
       "      <td>1996-01-02</td>\n",
       "      <td>news</td>\n",
       "      <td>When days are seconds longer</td>\n",
       "    </tr>\n",
       "    <tr>\n",
       "      <th>9</th>\n",
       "      <td>1996-01-02</td>\n",
       "      <td>news</td>\n",
       "      <td>John Major's future may lie in unionist hands</td>\n",
       "    </tr>\n",
       "    <tr>\n",
       "      <th>10</th>\n",
       "      <td>1996-01-02</td>\n",
       "      <td>news</td>\n",
       "      <td>High school student found dead from cold on Co...</td>\n",
       "    </tr>\n",
       "    <tr>\n",
       "      <th>11</th>\n",
       "      <td>1996-01-02</td>\n",
       "      <td>news</td>\n",
       "      <td>Cardinal tells Major not to let difficult affe...</td>\n",
       "    </tr>\n",
       "    <tr>\n",
       "      <th>12</th>\n",
       "      <td>1996-01-02</td>\n",
       "      <td>news</td>\n",
       "      <td>Mayhew soothes fears of unionist veto on peace...</td>\n",
       "    </tr>\n",
       "    <tr>\n",
       "      <th>13</th>\n",
       "      <td>1996-01-02</td>\n",
       "      <td>news</td>\n",
       "      <td>Funeral told McCrory killing 'sullied city'</td>\n",
       "    </tr>\n",
       "    <tr>\n",
       "      <th>14</th>\n",
       "      <td>1996-01-02</td>\n",
       "      <td>news</td>\n",
       "      <td>Haughey refuses comment on passport deal</td>\n",
       "    </tr>\n",
       "    <tr>\n",
       "      <th>15</th>\n",
       "      <td>1996-01-02</td>\n",
       "      <td>news</td>\n",
       "      <td>Man dies after Lurgan shooting</td>\n",
       "    </tr>\n",
       "    <tr>\n",
       "      <th>16</th>\n",
       "      <td>1996-01-02</td>\n",
       "      <td>news</td>\n",
       "      <td>Dr Comiskey says he will not resign as bishop ...</td>\n",
       "    </tr>\n",
       "    <tr>\n",
       "      <th>17</th>\n",
       "      <td>1996-01-02</td>\n",
       "      <td>news</td>\n",
       "      <td>Gardai issue appeal as hunt for woman continues</td>\n",
       "    </tr>\n",
       "    <tr>\n",
       "      <th>18</th>\n",
       "      <td>1996-01-02</td>\n",
       "      <td>news</td>\n",
       "      <td>Group seeks link between grants and jobs for d...</td>\n",
       "    </tr>\n",
       "    <tr>\n",
       "      <th>19</th>\n",
       "      <td>1996-01-02</td>\n",
       "      <td>news</td>\n",
       "      <td>Ireland experiencing a revolution in values; s...</td>\n",
       "    </tr>\n",
       "    <tr>\n",
       "      <th>20</th>\n",
       "      <td>1996-01-02</td>\n",
       "      <td>news</td>\n",
       "      <td>Women dies; parents injured in Finglas fire.</td>\n",
       "    </tr>\n",
       "    <tr>\n",
       "      <th>21</th>\n",
       "      <td>1996-01-02</td>\n",
       "      <td>news</td>\n",
       "      <td>Bruton hails Pope's plea on children</td>\n",
       "    </tr>\n",
       "    <tr>\n",
       "      <th>22</th>\n",
       "      <td>1996-01-02</td>\n",
       "      <td>news</td>\n",
       "      <td>Excitement of the first Lemass and O'Neill mee...</td>\n",
       "    </tr>\n",
       "    <tr>\n",
       "      <th>23</th>\n",
       "      <td>1996-01-02</td>\n",
       "      <td>news</td>\n",
       "      <td>RTE's plan on North reception</td>\n",
       "    </tr>\n",
       "    <tr>\n",
       "      <th>24</th>\n",
       "      <td>1996-01-02</td>\n",
       "      <td>news</td>\n",
       "      <td>'Minnie dresses' warning</td>\n",
       "    </tr>\n",
       "    <tr>\n",
       "      <th>25</th>\n",
       "      <td>1996-01-02</td>\n",
       "      <td>news</td>\n",
       "      <td>Prelate offered to resign</td>\n",
       "    </tr>\n",
       "    <tr>\n",
       "      <th>26</th>\n",
       "      <td>1996-01-02</td>\n",
       "      <td>news</td>\n",
       "      <td>TV set 'much admired'</td>\n",
       "    </tr>\n",
       "    <tr>\n",
       "      <th>27</th>\n",
       "      <td>1996-01-02</td>\n",
       "      <td>news</td>\n",
       "      <td>Papers show slow and structured procedures</td>\n",
       "    </tr>\n",
       "    <tr>\n",
       "      <th>28</th>\n",
       "      <td>1996-01-02</td>\n",
       "      <td>news</td>\n",
       "      <td>Lemass considered the possibility of divorce l...</td>\n",
       "    </tr>\n",
       "    <tr>\n",
       "      <th>29</th>\n",
       "      <td>1996-01-02</td>\n",
       "      <td>news</td>\n",
       "      <td>Political agendas excluded Northern problem</td>\n",
       "    </tr>\n",
       "    <tr>\n",
       "      <th>...</th>\n",
       "      <td>...</td>\n",
       "      <td>...</td>\n",
       "      <td>...</td>\n",
       "    </tr>\n",
       "    <tr>\n",
       "      <th>1425430</th>\n",
       "      <td>2018-12-31</td>\n",
       "      <td>news.education</td>\n",
       "      <td>Revealed: the universities most likely to awar...</td>\n",
       "    </tr>\n",
       "    <tr>\n",
       "      <th>1425431</th>\n",
       "      <td>2018-12-31</td>\n",
       "      <td>sport.rugby.pro14</td>\n",
       "      <td>Munster overcame 'mental barrier'; says David ...</td>\n",
       "    </tr>\n",
       "    <tr>\n",
       "      <th>1425432</th>\n",
       "      <td>2018-12-31</td>\n",
       "      <td>opinion.editorial</td>\n",
       "      <td>The Irish Times view: Where's the plan for com...</td>\n",
       "    </tr>\n",
       "    <tr>\n",
       "      <th>1425433</th>\n",
       "      <td>2018-12-31</td>\n",
       "      <td>opinion.editorial</td>\n",
       "      <td>The Irish Times view: When Anglo-Irish ties we...</td>\n",
       "    </tr>\n",
       "    <tr>\n",
       "      <th>1425434</th>\n",
       "      <td>2018-12-31</td>\n",
       "      <td>news.world.us</td>\n",
       "      <td>Wildlife worker killed by lion in United States</td>\n",
       "    </tr>\n",
       "    <tr>\n",
       "      <th>1425435</th>\n",
       "      <td>2018-12-31</td>\n",
       "      <td>news.ireland</td>\n",
       "      <td>Record-breaking year for Irish passports as 82...</td>\n",
       "    </tr>\n",
       "    <tr>\n",
       "      <th>1425436</th>\n",
       "      <td>2018-12-31</td>\n",
       "      <td>news.world.asia-pacific</td>\n",
       "      <td>Bangladesh prime minister wins election amid v...</td>\n",
       "    </tr>\n",
       "    <tr>\n",
       "      <th>1425437</th>\n",
       "      <td>2018-12-31</td>\n",
       "      <td>news.ireland</td>\n",
       "      <td>Restaurant association warns of closures over ...</td>\n",
       "    </tr>\n",
       "    <tr>\n",
       "      <th>1425438</th>\n",
       "      <td>2018-12-31</td>\n",
       "      <td>news.ireland</td>\n",
       "      <td>Eileen Battersby funeral takes place in Drogheda</td>\n",
       "    </tr>\n",
       "    <tr>\n",
       "      <th>1425439</th>\n",
       "      <td>2018-12-31</td>\n",
       "      <td>business</td>\n",
       "      <td>Japanese court extends detention of Nissan's C...</td>\n",
       "    </tr>\n",
       "    <tr>\n",
       "      <th>1425440</th>\n",
       "      <td>2018-12-31</td>\n",
       "      <td>business.economy</td>\n",
       "      <td>Recruiter warns Ireland's housing crisis is hu...</td>\n",
       "    </tr>\n",
       "    <tr>\n",
       "      <th>1425441</th>\n",
       "      <td>2018-12-31</td>\n",
       "      <td>news.health</td>\n",
       "      <td>Vicky Phelan highlights 'taboo subject' of sex...</td>\n",
       "    </tr>\n",
       "    <tr>\n",
       "      <th>1425442</th>\n",
       "      <td>2018-12-31</td>\n",
       "      <td>news.world.us</td>\n",
       "      <td>Syria: Trump is 'slowing troop withdrawal' say...</td>\n",
       "    </tr>\n",
       "    <tr>\n",
       "      <th>1425443</th>\n",
       "      <td>2018-12-31</td>\n",
       "      <td>news.world.europe</td>\n",
       "      <td>Serbian leader ready to hear protesters' deman...</td>\n",
       "    </tr>\n",
       "    <tr>\n",
       "      <th>1425444</th>\n",
       "      <td>2018-12-31</td>\n",
       "      <td>news.ireland</td>\n",
       "      <td>Road deaths drop to a record low for 2018</td>\n",
       "    </tr>\n",
       "    <tr>\n",
       "      <th>1425445</th>\n",
       "      <td>2018-12-31</td>\n",
       "      <td>sport.rugby.pro14</td>\n",
       "      <td>Rob Kearney and Jack McGrath to return to Lein...</td>\n",
       "    </tr>\n",
       "    <tr>\n",
       "      <th>1425446</th>\n",
       "      <td>2018-12-31</td>\n",
       "      <td>sport.other-sports</td>\n",
       "      <td>NFL round-up: No Carson Wentz; still no proble...</td>\n",
       "    </tr>\n",
       "    <tr>\n",
       "      <th>1425447</th>\n",
       "      <td>2018-12-31</td>\n",
       "      <td>news.law.courts.high-court</td>\n",
       "      <td>Three young siblings allege HSE failed to asse...</td>\n",
       "    </tr>\n",
       "    <tr>\n",
       "      <th>1425448</th>\n",
       "      <td>2018-12-31</td>\n",
       "      <td>news.ireland</td>\n",
       "      <td>Abortion services: New counselling hotline goe...</td>\n",
       "    </tr>\n",
       "    <tr>\n",
       "      <th>1425449</th>\n",
       "      <td>2018-12-31</td>\n",
       "      <td>news.ireland</td>\n",
       "      <td>Bishop of Kilmore Leo O'Reilly resigns due to ...</td>\n",
       "    </tr>\n",
       "    <tr>\n",
       "      <th>1425450</th>\n",
       "      <td>2018-12-31</td>\n",
       "      <td>sport.soccer.english-soccer</td>\n",
       "      <td>Peter Thompson; former Liverpool and England w...</td>\n",
       "    </tr>\n",
       "    <tr>\n",
       "      <th>1425451</th>\n",
       "      <td>2018-12-31</td>\n",
       "      <td>news.health</td>\n",
       "      <td>Vending machines may be used to distribute fre...</td>\n",
       "    </tr>\n",
       "    <tr>\n",
       "      <th>1425452</th>\n",
       "      <td>2018-12-31</td>\n",
       "      <td>news.world.us</td>\n",
       "      <td>Wall Street to loom large in Elizabeth Warren'...</td>\n",
       "    </tr>\n",
       "    <tr>\n",
       "      <th>1425453</th>\n",
       "      <td>2018-12-31</td>\n",
       "      <td>news.health</td>\n",
       "      <td>Fewer patients on hospital trolleys; claims Ha...</td>\n",
       "    </tr>\n",
       "    <tr>\n",
       "      <th>1425454</th>\n",
       "      <td>2018-12-31</td>\n",
       "      <td>opinion</td>\n",
       "      <td>A year of anxiety and upheaval – An Irishman's...</td>\n",
       "    </tr>\n",
       "    <tr>\n",
       "      <th>1425455</th>\n",
       "      <td>2018-12-31</td>\n",
       "      <td>sport.other-sports</td>\n",
       "      <td>$9m for 139 seconds: Floyd Mayweather eases pa...</td>\n",
       "    </tr>\n",
       "    <tr>\n",
       "      <th>1425456</th>\n",
       "      <td>2018-12-31</td>\n",
       "      <td>news.ireland</td>\n",
       "      <td>Missing pregnant teenager Zoe Hitchcock safe a...</td>\n",
       "    </tr>\n",
       "    <tr>\n",
       "      <th>1425457</th>\n",
       "      <td>2018-12-31</td>\n",
       "      <td>news.ireland</td>\n",
       "      <td>Mourners bid farewell to 'beguiling' critic Ei...</td>\n",
       "    </tr>\n",
       "    <tr>\n",
       "      <th>1425458</th>\n",
       "      <td>2018-12-31</td>\n",
       "      <td>news.world.us</td>\n",
       "      <td>'Los Angeles Times' making 'progress' in wake ...</td>\n",
       "    </tr>\n",
       "    <tr>\n",
       "      <th>1425459</th>\n",
       "      <td>2018-12-31</td>\n",
       "      <td>business.economy</td>\n",
       "      <td>Benign outlook for US-China trade talks lifts ...</td>\n",
       "    </tr>\n",
       "  </tbody>\n",
       "</table>\n",
       "<p>1425460 rows × 3 columns</p>\n",
       "</div>"
      ],
      "text/plain": [
       "        publish_date   headline_category  \\\n",
       "0         1996-01-02                news   \n",
       "1         1996-01-02                news   \n",
       "2         1996-01-02                news   \n",
       "3         1996-01-02                news   \n",
       "4         1996-01-02                news   \n",
       "...              ...                 ...   \n",
       "1425455   2018-12-31  sport.other-sports   \n",
       "1425456   2018-12-31        news.ireland   \n",
       "1425457   2018-12-31        news.ireland   \n",
       "1425458   2018-12-31       news.world.us   \n",
       "1425459   2018-12-31    business.economy   \n",
       "\n",
       "                                             headline_text  \n",
       "0                 UUP sees possibility of voting Major out  \n",
       "1           Pubs targeted as curbs on smoking are extended  \n",
       "2          Papers reveal secret links with O'Neill cabinet  \n",
       "3              Domestic chaos as Italy takes EU presidency  \n",
       "4             Learning about the star to which we owe life  \n",
       "...                                                    ...  \n",
       "1425455  $9m for 139 seconds: Floyd Mayweather eases pa...  \n",
       "1425456  Missing pregnant teenager Zoe Hitchcock safe a...  \n",
       "1425457  Mourners bid farewell to 'beguiling' critic Ei...  \n",
       "1425458  'Los Angeles Times' making 'progress' in wake ...  \n",
       "1425459  Benign outlook for US-China trade talks lifts ...  \n",
       "\n",
       "[1425460 rows x 3 columns]"
      ]
     },
     "execution_count": 1,
     "metadata": {},
     "output_type": "execute_result"
    }
   ],
   "source": [
    "import pandas\n",
    "import numpy\n",
    "\n",
    "data = [pandas.read_csv('xaa')]\n",
    "columns = data[0].columns\n",
    "data.extend([pandas.read_csv(filename,\n",
    "                             header=None, \n",
    "                             names=columns) for filename in ('xab','xac','xad','xae','xaf')])\n",
    "headlines = pandas.concat(data)\n",
    "headlines.index = numpy.arange(headlines.shape[0])\n",
    "headlines['publish_date']=pandas.to_datetime(headlines['publish_date'],format='%Y%m%d')\n",
    "headlines"
   ]
  },
  {
   "cell_type": "markdown",
   "metadata": {},
   "source": [
    "# 2/ company_selection.csv\n",
    "A selection of 20,000 startup companies names"
   ]
  },
  {
   "cell_type": "code",
   "execution_count": 2,
   "metadata": {
    "scrolled": true
   },
   "outputs": [
    {
     "data": {
      "text/html": [
       "<div>\n",
       "<style scoped>\n",
       "    .dataframe tbody tr th:only-of-type {\n",
       "        vertical-align: middle;\n",
       "    }\n",
       "\n",
       "    .dataframe tbody tr th {\n",
       "        vertical-align: top;\n",
       "    }\n",
       "\n",
       "    .dataframe thead th {\n",
       "        text-align: right;\n",
       "    }\n",
       "</style>\n",
       "<table border=\"1\" class=\"dataframe\">\n",
       "  <thead>\n",
       "    <tr style=\"text-align: right;\">\n",
       "      <th></th>\n",
       "      <th>name</th>\n",
       "      <th>description</th>\n",
       "    </tr>\n",
       "  </thead>\n",
       "  <tbody>\n",
       "    <tr>\n",
       "      <th>446617</th>\n",
       "      <td>PHI Integration</td>\n",
       "      <td>They are the technology enabler helping Busine...</td>\n",
       "    </tr>\n",
       "    <tr>\n",
       "      <th>511854</th>\n",
       "      <td>Fintech PRRB</td>\n",
       "      <td>Fintech PRRB is a financial technology company...</td>\n",
       "    </tr>\n",
       "    <tr>\n",
       "      <th>420327</th>\n",
       "      <td>Reverse Ionizer</td>\n",
       "      <td>Reverse Ionizerâ¢ has developed a revolutiona...</td>\n",
       "    </tr>\n",
       "    <tr>\n",
       "      <th>434431</th>\n",
       "      <td>UNH3O</td>\n",
       "      <td>UNH3O Powering personalized relationships betw...</td>\n",
       "    </tr>\n",
       "    <tr>\n",
       "      <th>274244</th>\n",
       "      <td>Rhyme&amp;Reason Clothing</td>\n",
       "      <td>We offer high quality, every-day clothing - T-...</td>\n",
       "    </tr>\n",
       "    <tr>\n",
       "      <th>299626</th>\n",
       "      <td>LOCI</td>\n",
       "      <td>LOCIâs mission is to disrupt the global pate...</td>\n",
       "    </tr>\n",
       "    <tr>\n",
       "      <th>53235</th>\n",
       "      <td>Tocquigny Advertising</td>\n",
       "      <td>Tocquigny was founded by Yvonne Tocquigny. Yvo...</td>\n",
       "    </tr>\n",
       "    <tr>\n",
       "      <th>263572</th>\n",
       "      <td>Visor</td>\n",
       "      <td>Visor SA designs and develops market intellige...</td>\n",
       "    </tr>\n",
       "    <tr>\n",
       "      <th>217649</th>\n",
       "      <td>Anakam</td>\n",
       "      <td>Anakam is focused on the development of multi-...</td>\n",
       "    </tr>\n",
       "    <tr>\n",
       "      <th>432910</th>\n",
       "      <td>ASBV</td>\n",
       "      <td>ASBV focuses on early and mid-term venture cap...</td>\n",
       "    </tr>\n",
       "    <tr>\n",
       "      <th>252170</th>\n",
       "      <td>Ecooar</td>\n",
       "      <td>Ecooar enables companies to design their own w...</td>\n",
       "    </tr>\n",
       "    <tr>\n",
       "      <th>322650</th>\n",
       "      <td>Desenio</td>\n",
       "      <td>At Desenio, they are passionate about interior...</td>\n",
       "    </tr>\n",
       "    <tr>\n",
       "      <th>367362</th>\n",
       "      <td>Ion Tech</td>\n",
       "      <td>Ion Tech manufactures ion beam systems used to...</td>\n",
       "    </tr>\n",
       "    <tr>\n",
       "      <th>462417</th>\n",
       "      <td>HomeStar Remodeling</td>\n",
       "      <td>HomeStar Remodeling is a Delaware-based remode...</td>\n",
       "    </tr>\n",
       "    <tr>\n",
       "      <th>265610</th>\n",
       "      <td>A1 Capital</td>\n",
       "      <td>A1 Capital Co., Ltd. is the investment and fin...</td>\n",
       "    </tr>\n",
       "    <tr>\n",
       "      <th>117158</th>\n",
       "      <td>all about apps</td>\n",
       "      <td>all about apps is a mobile apps developer comp...</td>\n",
       "    </tr>\n",
       "    <tr>\n",
       "      <th>183567</th>\n",
       "      <td>VMFive</td>\n",
       "      <td>Founded in May 2014, VMFive is a Taiwanese sta...</td>\n",
       "    </tr>\n",
       "    <tr>\n",
       "      <th>450661</th>\n",
       "      <td>BulFon SA</td>\n",
       "      <td>BulFon SA develops and markets public card pay...</td>\n",
       "    </tr>\n",
       "    <tr>\n",
       "      <th>276144</th>\n",
       "      <td>Doc24Seven</td>\n",
       "      <td>We are a Female Veteran owned company based ou...</td>\n",
       "    </tr>\n",
       "    <tr>\n",
       "      <th>347469</th>\n",
       "      <td>Indigo Concept Packaging</td>\n",
       "      <td>Indigo Concept Packaging Limited. Indigo is ba...</td>\n",
       "    </tr>\n",
       "    <tr>\n",
       "      <th>476272</th>\n",
       "      <td>Bayer Print</td>\n",
       "      <td>Online gilt im Allgemeinen als schneller, einf...</td>\n",
       "    </tr>\n",
       "    <tr>\n",
       "      <th>287486</th>\n",
       "      <td>Bauknecht</td>\n",
       "      <td>With its German claim âMehr als Technikâ w...</td>\n",
       "    </tr>\n",
       "    <tr>\n",
       "      <th>234735</th>\n",
       "      <td>Disbursify</td>\n",
       "      <td>Disbursify is a real estate crowdfunding platf...</td>\n",
       "    </tr>\n",
       "    <tr>\n",
       "      <th>329258</th>\n",
       "      <td>Taipei Eats</td>\n",
       "      <td>Foodies know that the best places to eat in an...</td>\n",
       "    </tr>\n",
       "    <tr>\n",
       "      <th>38678</th>\n",
       "      <td>Beijing Zhijin Leye Education and Technology Co</td>\n",
       "      <td>Beijing Zhijin Leye Education and Technology C...</td>\n",
       "    </tr>\n",
       "    <tr>\n",
       "      <th>85869</th>\n",
       "      <td>Speedy Stamps</td>\n",
       "      <td>Speedy Stamps is based in Geelong, Victoria, a...</td>\n",
       "    </tr>\n",
       "    <tr>\n",
       "      <th>390250</th>\n",
       "      <td>Van Gansewinkel Groep B.V.</td>\n",
       "      <td>Van Gansewinkel Groep B.V. provides waste coll...</td>\n",
       "    </tr>\n",
       "    <tr>\n",
       "      <th>267521</th>\n",
       "      <td>Slinger</td>\n",
       "      <td>About Slinger Media, LLC: Launched on December...</td>\n",
       "    </tr>\n",
       "    <tr>\n",
       "      <th>74151</th>\n",
       "      <td>dealingers.com</td>\n",
       "      <td>Use your social network to turn it into HUGE d...</td>\n",
       "    </tr>\n",
       "    <tr>\n",
       "      <th>261722</th>\n",
       "      <td>G-echo</td>\n",
       "      <td>G-echo offers solutions for computer security,...</td>\n",
       "    </tr>\n",
       "    <tr>\n",
       "      <th>...</th>\n",
       "      <td>...</td>\n",
       "      <td>...</td>\n",
       "    </tr>\n",
       "    <tr>\n",
       "      <th>535414</th>\n",
       "      <td>Today Match Prediction - CBTF ARNAV</td>\n",
       "      <td>Cricket is most popular game in this world. We...</td>\n",
       "    </tr>\n",
       "    <tr>\n",
       "      <th>209468</th>\n",
       "      <td>glist</td>\n",
       "      <td>Similar to Wish (a wish list app valued at $40...</td>\n",
       "    </tr>\n",
       "    <tr>\n",
       "      <th>445297</th>\n",
       "      <td>Simplora GmbH</td>\n",
       "      <td>Simplora GmbH develops and operates an online ...</td>\n",
       "    </tr>\n",
       "    <tr>\n",
       "      <th>187202</th>\n",
       "      <td>Datera</td>\n",
       "      <td>DATERA Smart Platform for Analytics empowers c...</td>\n",
       "    </tr>\n",
       "    <tr>\n",
       "      <th>298888</th>\n",
       "      <td>Augmento</td>\n",
       "      <td>Augmento is a holistic solution to detect tren...</td>\n",
       "    </tr>\n",
       "    <tr>\n",
       "      <th>447482</th>\n",
       "      <td>ABM Fire and Security</td>\n",
       "      <td>ABM Fire &amp; Security offer bespoke designs for ...</td>\n",
       "    </tr>\n",
       "    <tr>\n",
       "      <th>347912</th>\n",
       "      <td>Motivcom</td>\n",
       "      <td>Motivcom is a rewards and employee benefits pr...</td>\n",
       "    </tr>\n",
       "    <tr>\n",
       "      <th>51867</th>\n",
       "      <td>Operad</td>\n",
       "      <td>Operad is a search &amp; online marketing company ...</td>\n",
       "    </tr>\n",
       "    <tr>\n",
       "      <th>260527</th>\n",
       "      <td>Vancouver Photowalks</td>\n",
       "      <td>Vancouver Photowalks offers tour and outdoor p...</td>\n",
       "    </tr>\n",
       "    <tr>\n",
       "      <th>494121</th>\n",
       "      <td>Your Fluffy Friend</td>\n",
       "      <td>If you love your pooch and care about the qual...</td>\n",
       "    </tr>\n",
       "    <tr>\n",
       "      <th>142861</th>\n",
       "      <td>Roposo</td>\n",
       "      <td>Roposo - TV by the People is a unique social m...</td>\n",
       "    </tr>\n",
       "    <tr>\n",
       "      <th>289993</th>\n",
       "      <td>L-3 PacOrd</td>\n",
       "      <td>L-3 PacOrd provides electrical/electronic over...</td>\n",
       "    </tr>\n",
       "    <tr>\n",
       "      <th>488771</th>\n",
       "      <td>Thrasher Enterprises</td>\n",
       "      <td>Thrasher Enterprises is a Retailing company.</td>\n",
       "    </tr>\n",
       "    <tr>\n",
       "      <th>492348</th>\n",
       "      <td>InteSpring</td>\n",
       "      <td>InteSpring is an innovative technical advice a...</td>\n",
       "    </tr>\n",
       "    <tr>\n",
       "      <th>247358</th>\n",
       "      <td>softwarez solution</td>\n",
       "      <td>Softwarez solution has vision to make everyone...</td>\n",
       "    </tr>\n",
       "    <tr>\n",
       "      <th>384950</th>\n",
       "      <td>Oilgear</td>\n",
       "      <td>Oilgear is a manufacturer of hydraulic pumps, ...</td>\n",
       "    </tr>\n",
       "    <tr>\n",
       "      <th>285864</th>\n",
       "      <td>The Crow Group</td>\n",
       "      <td>The Crow Group designs and manufactures since ...</td>\n",
       "    </tr>\n",
       "    <tr>\n",
       "      <th>300304</th>\n",
       "      <td>IARNA</td>\n",
       "      <td>IARNA is a NPO that disseminates information o...</td>\n",
       "    </tr>\n",
       "    <tr>\n",
       "      <th>136510</th>\n",
       "      <td>Charter School Growth Fund</td>\n",
       "      <td>Charter Management Organizations (CMOs) are es...</td>\n",
       "    </tr>\n",
       "    <tr>\n",
       "      <th>312427</th>\n",
       "      <td>LiveDeal</td>\n",
       "      <td>LiveDeal provides marketing solutions that boo...</td>\n",
       "    </tr>\n",
       "    <tr>\n",
       "      <th>393258</th>\n",
       "      <td>MyIslamicKart</td>\n",
       "      <td>MyIslamicKart.com is an online marketplace of ...</td>\n",
       "    </tr>\n",
       "    <tr>\n",
       "      <th>349632</th>\n",
       "      <td>Rialco Limited</td>\n",
       "      <td>Rialco is the leading supplier of formulated c...</td>\n",
       "    </tr>\n",
       "    <tr>\n",
       "      <th>520414</th>\n",
       "      <td>Smart Steps</td>\n",
       "      <td>Smart Steps is a developer of a mobile applica...</td>\n",
       "    </tr>\n",
       "    <tr>\n",
       "      <th>436677</th>\n",
       "      <td>2W Tech</td>\n",
       "      <td>They offer several services and products to he...</td>\n",
       "    </tr>\n",
       "    <tr>\n",
       "      <th>96441</th>\n",
       "      <td>Pathfinder App</td>\n",
       "      <td>Pathfinder is a social content curator to shar...</td>\n",
       "    </tr>\n",
       "    <tr>\n",
       "      <th>15260</th>\n",
       "      <td>Moogi</td>\n",
       "      <td>Moogi helps creators of web video monetize eac...</td>\n",
       "    </tr>\n",
       "    <tr>\n",
       "      <th>480370</th>\n",
       "      <td>Re5</td>\n",
       "      <td>Re5 is a co-development company that is behind...</td>\n",
       "    </tr>\n",
       "    <tr>\n",
       "      <th>531956</th>\n",
       "      <td>Ploid</td>\n",
       "      <td>Ploid is a provider of storage infrastructure ...</td>\n",
       "    </tr>\n",
       "    <tr>\n",
       "      <th>335247</th>\n",
       "      <td>Fairmarkit</td>\n",
       "      <td>Tail spend is not inconsequential. It makes up...</td>\n",
       "    </tr>\n",
       "    <tr>\n",
       "      <th>323897</th>\n",
       "      <td>Biozol Diagnostica Vertrieb</td>\n",
       "      <td>Biozol Diagnostica Vertrieb markets and distri...</td>\n",
       "    </tr>\n",
       "  </tbody>\n",
       "</table>\n",
       "<p>20000 rows × 2 columns</p>\n",
       "</div>"
      ],
      "text/plain": [
       "                               name  \\\n",
       "446617              PHI Integration   \n",
       "511854                 Fintech PRRB   \n",
       "420327              Reverse Ionizer   \n",
       "434431                        UNH3O   \n",
       "274244        Rhyme&Reason Clothing   \n",
       "...                             ...   \n",
       "15260                         Moogi   \n",
       "480370                          Re5   \n",
       "531956                        Ploid   \n",
       "335247                   Fairmarkit   \n",
       "323897  Biozol Diagnostica Vertrieb   \n",
       "\n",
       "                                              description  \n",
       "446617  They are the technology enabler helping Busine...  \n",
       "511854  Fintech PRRB is a financial technology company...  \n",
       "420327  Reverse Ionizerâ¢ has developed a revolutiona...  \n",
       "434431  UNH3O Powering personalized relationships betw...  \n",
       "274244  We offer high quality, every-day clothing - T-...  \n",
       "...                                                   ...  \n",
       "15260   Moogi helps creators of web video monetize eac...  \n",
       "480370  Re5 is a co-development company that is behind...  \n",
       "531956  Ploid is a provider of storage infrastructure ...  \n",
       "335247  Tail spend is not inconsequential. It makes up...  \n",
       "323897  Biozol Diagnostica Vertrieb markets and distri...  \n",
       "\n",
       "[20000 rows x 2 columns]"
      ]
     },
     "execution_count": 2,
     "metadata": {},
     "output_type": "execute_result"
    }
   ],
   "source": [
    "companies = pandas.read_csv('company_selection.csv',index_col=0)\n",
    "companies"
   ]
  },
  {
   "cell_type": "markdown",
   "metadata": {},
   "source": [
    "# The objective of this take home is to link news and companies"
   ]
  },
  {
   "cell_type": "markdown",
   "metadata": {},
   "source": [
    "# Natural Language processing:"
   ]
  },
  {
   "cell_type": "markdown",
   "metadata": {},
   "source": [
    "1/ Link news and companies"
   ]
  },
  {
   "cell_type": "code",
   "execution_count": 3,
   "metadata": {
    "scrolled": true
   },
   "outputs": [
    {
     "data": {
      "text/html": [
       "<div>\n",
       "<style scoped>\n",
       "    .dataframe tbody tr th:only-of-type {\n",
       "        vertical-align: middle;\n",
       "    }\n",
       "\n",
       "    .dataframe tbody tr th {\n",
       "        vertical-align: top;\n",
       "    }\n",
       "\n",
       "    .dataframe thead th {\n",
       "        text-align: right;\n",
       "    }\n",
       "</style>\n",
       "<table border=\"1\" class=\"dataframe\">\n",
       "  <thead>\n",
       "    <tr style=\"text-align: right;\">\n",
       "      <th></th>\n",
       "      <th>_id</th>\n",
       "      <th>publish_date</th>\n",
       "      <th>headline_category</th>\n",
       "      <th>headline_text</th>\n",
       "      <th>company</th>\n",
       "    </tr>\n",
       "  </thead>\n",
       "  <tbody>\n",
       "    <tr>\n",
       "      <th>0</th>\n",
       "      <td>5d93048d4adb12ac9f5e1d3b</td>\n",
       "      <td>1998-12-10</td>\n",
       "      <td>opinion.letters</td>\n",
       "      <td>Credit For Tax Credits</td>\n",
       "      <td>Tax Credit</td>\n",
       "    </tr>\n",
       "    <tr>\n",
       "      <th>1</th>\n",
       "      <td>5d9304924adb12ac9f6d4cc9</td>\n",
       "      <td>2014-07-17</td>\n",
       "      <td>business.technology</td>\n",
       "      <td>Lucidity Digital rebranded as Isobar</td>\n",
       "      <td>Lucid</td>\n",
       "    </tr>\n",
       "    <tr>\n",
       "      <th>2</th>\n",
       "      <td>5d9304904adb12ac9f692d79</td>\n",
       "      <td>2010-04-07</td>\n",
       "      <td>culture.books</td>\n",
       "      <td>Lucid and in-depth portrait of troubled country</td>\n",
       "      <td>Lucid</td>\n",
       "    </tr>\n",
       "    <tr>\n",
       "      <th>3</th>\n",
       "      <td>5d93048f4adb12ac9f63ffd2</td>\n",
       "      <td>2005-03-25</td>\n",
       "      <td>news</td>\n",
       "      <td>Pope weak but 'Lucid' on Good Friday</td>\n",
       "      <td>Lucid</td>\n",
       "    </tr>\n",
       "    <tr>\n",
       "      <th>4</th>\n",
       "      <td>5d9304904adb12ac9f68fc3a</td>\n",
       "      <td>2010-02-05</td>\n",
       "      <td>opinion</td>\n",
       "      <td>Lucid grassroots account of 1916 Rising explor...</td>\n",
       "      <td>Lucid</td>\n",
       "    </tr>\n",
       "    <tr>\n",
       "      <th>5</th>\n",
       "      <td>5d9304924adb12ac9f706721</td>\n",
       "      <td>2017-11-04</td>\n",
       "      <td>culture.books</td>\n",
       "      <td>Lucid but flawed: Paschal Donohoe reviews Yani...</td>\n",
       "      <td>Lucid</td>\n",
       "    </tr>\n",
       "    <tr>\n",
       "      <th>6</th>\n",
       "      <td>5d9304904adb12ac9f689c30</td>\n",
       "      <td>2009-10-16</td>\n",
       "      <td>opinion</td>\n",
       "      <td>Lucid insight into eccentric world and inner d...</td>\n",
       "      <td>Lucid</td>\n",
       "    </tr>\n",
       "    <tr>\n",
       "      <th>7</th>\n",
       "      <td>5d93048d4adb12ac9f5e7012</td>\n",
       "      <td>1999-04-21</td>\n",
       "      <td>opinion</td>\n",
       "      <td>Similarity of verdicts on different acts absurd</td>\n",
       "      <td>Similarity</td>\n",
       "    </tr>\n",
       "    <tr>\n",
       "      <th>8</th>\n",
       "      <td>5d93048f4adb12ac9f64c23a</td>\n",
       "      <td>2006-01-28</td>\n",
       "      <td>business</td>\n",
       "      <td>Tech veterans reap reward from Similarity sale</td>\n",
       "      <td>Similarity</td>\n",
       "    </tr>\n",
       "    <tr>\n",
       "      <th>9</th>\n",
       "      <td>5d93048e4adb12ac9f604960</td>\n",
       "      <td>2001-04-18</td>\n",
       "      <td>opinion.letters</td>\n",
       "      <td>Boston Versus Berlin</td>\n",
       "      <td>Versus</td>\n",
       "    </tr>\n",
       "    <tr>\n",
       "      <th>10</th>\n",
       "      <td>5d93048e4adb12ac9f60479c</td>\n",
       "      <td>2001-04-16</td>\n",
       "      <td>opinion.letters</td>\n",
       "      <td>Boston Versus Berlin</td>\n",
       "      <td>Versus</td>\n",
       "    </tr>\n",
       "    <tr>\n",
       "      <th>11</th>\n",
       "      <td>5d93048e4adb12ac9f601a58</td>\n",
       "      <td>2001-02-21</td>\n",
       "      <td>opinion.letters</td>\n",
       "      <td>McCreevy Versus The EU</td>\n",
       "      <td>Versus</td>\n",
       "    </tr>\n",
       "    <tr>\n",
       "      <th>12</th>\n",
       "      <td>5d93048e4adb12ac9f600ae1</td>\n",
       "      <td>2001-02-03</td>\n",
       "      <td>opinion.letters</td>\n",
       "      <td>McCreevy Versus EU</td>\n",
       "      <td>Versus</td>\n",
       "    </tr>\n",
       "    <tr>\n",
       "      <th>13</th>\n",
       "      <td>5d93048e4adb12ac9f600935</td>\n",
       "      <td>2001-02-01</td>\n",
       "      <td>opinion.letters</td>\n",
       "      <td>McCreevy Versus EU</td>\n",
       "      <td>Versus</td>\n",
       "    </tr>\n",
       "    <tr>\n",
       "      <th>14</th>\n",
       "      <td>5d93048e4adb12ac9f600542</td>\n",
       "      <td>2001-01-27</td>\n",
       "      <td>opinion</td>\n",
       "      <td>McCreevy Versus The EU</td>\n",
       "      <td>Versus</td>\n",
       "    </tr>\n",
       "    <tr>\n",
       "      <th>15</th>\n",
       "      <td>5d93048d4adb12ac9f5e3a7e</td>\n",
       "      <td>1999-01-30</td>\n",
       "      <td>opinion.letters</td>\n",
       "      <td>Mormon Versus Mammon</td>\n",
       "      <td>Versus</td>\n",
       "    </tr>\n",
       "    <tr>\n",
       "      <th>16</th>\n",
       "      <td>5d93048d4adb12ac9f5db4bb</td>\n",
       "      <td>1998-06-27</td>\n",
       "      <td>opinion</td>\n",
       "      <td>Dalmatian Versus Salmon?</td>\n",
       "      <td>Versus</td>\n",
       "    </tr>\n",
       "    <tr>\n",
       "      <th>17</th>\n",
       "      <td>5d93048e4adb12ac9f602b1a</td>\n",
       "      <td>2001-03-13</td>\n",
       "      <td>opinion.letters</td>\n",
       "      <td>Brid Og Versus Jennifer</td>\n",
       "      <td>Versus</td>\n",
       "    </tr>\n",
       "    <tr>\n",
       "      <th>18</th>\n",
       "      <td>5d93048d4adb12ac9f5f803a</td>\n",
       "      <td>2000-07-01</td>\n",
       "      <td>opinion.letters</td>\n",
       "      <td>SDLP Versus Sinn Fein</td>\n",
       "      <td>Versus</td>\n",
       "    </tr>\n",
       "    <tr>\n",
       "      <th>19</th>\n",
       "      <td>5d93048d4adb12ac9f5ea7a3</td>\n",
       "      <td>1999-07-14</td>\n",
       "      <td>opinion.letters</td>\n",
       "      <td>Home Versus Hospital Births</td>\n",
       "      <td>Versus</td>\n",
       "    </tr>\n",
       "    <tr>\n",
       "      <th>20</th>\n",
       "      <td>5d9304924adb12ac9f70231b</td>\n",
       "      <td>2017-07-21</td>\n",
       "      <td>culture.music</td>\n",
       "      <td>Go Hawaii – Casino Versus Japan</td>\n",
       "      <td>Versus</td>\n",
       "    </tr>\n",
       "    <tr>\n",
       "      <th>21</th>\n",
       "      <td>5d9304924adb12ac9f6d7d2c</td>\n",
       "      <td>2014-10-02</td>\n",
       "      <td>culture.stage</td>\n",
       "      <td>Review: Ganesh Versus the Third Reich</td>\n",
       "      <td>Versus</td>\n",
       "    </tr>\n",
       "    <tr>\n",
       "      <th>22</th>\n",
       "      <td>5d9304924adb12ac9f6d77b5</td>\n",
       "      <td>2014-09-24</td>\n",
       "      <td>culture</td>\n",
       "      <td>Wednesday: Ganesh Versus the Third Reich; Raum...</td>\n",
       "      <td>Versus</td>\n",
       "    </tr>\n",
       "    <tr>\n",
       "      <th>23</th>\n",
       "      <td>5d9304904adb12ac9f67eaa7</td>\n",
       "      <td>2009-02-28</td>\n",
       "      <td>lifestyle</td>\n",
       "      <td>Posseting Versus Boking And Curtain Pole Poking</td>\n",
       "      <td>Versus</td>\n",
       "    </tr>\n",
       "    <tr>\n",
       "      <th>24</th>\n",
       "      <td>5d9304924adb12ac9f6ffb50</td>\n",
       "      <td>2017-05-09</td>\n",
       "      <td>culture.music.album-reviews</td>\n",
       "      <td>Carl Craig - Versus review: techno à la Française</td>\n",
       "      <td>Versus</td>\n",
       "    </tr>\n",
       "    <tr>\n",
       "      <th>25</th>\n",
       "      <td>5d9304924adb12ac9f6f2232</td>\n",
       "      <td>2016-06-01</td>\n",
       "      <td>culture.film</td>\n",
       "      <td>Versus: The Life and Films of Ken Loach review...</td>\n",
       "      <td>Versus</td>\n",
       "    </tr>\n",
       "    <tr>\n",
       "      <th>26</th>\n",
       "      <td>5d9304914adb12ac9f6d2df7</td>\n",
       "      <td>2014-05-31</td>\n",
       "      <td>sport.soccer.international</td>\n",
       "      <td>Alvara Negredo and Jesus Navas left out of Spa...</td>\n",
       "      <td>Nava</td>\n",
       "    </tr>\n",
       "    <tr>\n",
       "      <th>27</th>\n",
       "      <td>5d9304914adb12ac9f6ce925</td>\n",
       "      <td>2014-02-17</td>\n",
       "      <td>sport.soccer</td>\n",
       "      <td>Navas confident City can stop Barcelona and Messi</td>\n",
       "      <td>Nava</td>\n",
       "    </tr>\n",
       "    <tr>\n",
       "      <th>28</th>\n",
       "      <td>5d9304914adb12ac9f6b6a57</td>\n",
       "      <td>2012-06-19</td>\n",
       "      <td>sport</td>\n",
       "      <td>Navas delivers on cue to seal top spot for rel...</td>\n",
       "      <td>Nava</td>\n",
       "    </tr>\n",
       "    <tr>\n",
       "      <th>29</th>\n",
       "      <td>5d9304924adb12ac9f6f2872</td>\n",
       "      <td>2016-06-10</td>\n",
       "      <td>business.work</td>\n",
       "      <td>Wild Geese: Derek Proctor; Loy Nava Dinner Cru...</td>\n",
       "      <td>Nava</td>\n",
       "    </tr>\n",
       "    <tr>\n",
       "      <th>...</th>\n",
       "      <td>...</td>\n",
       "      <td>...</td>\n",
       "      <td>...</td>\n",
       "      <td>...</td>\n",
       "      <td>...</td>\n",
       "    </tr>\n",
       "    <tr>\n",
       "      <th>30271</th>\n",
       "      <td>5d9304924adb12ac9f6dd4f9</td>\n",
       "      <td>2015-02-11</td>\n",
       "      <td>lifestyle.motors</td>\n",
       "      <td>First Drive: Ford Focus ST a cocktail of lairy...</td>\n",
       "      <td>Drive</td>\n",
       "    </tr>\n",
       "    <tr>\n",
       "      <th>30272</th>\n",
       "      <td>5d9304924adb12ac9f6d9136</td>\n",
       "      <td>2014-11-01</td>\n",
       "      <td>lifestyle</td>\n",
       "      <td>'Drive 20km in some areas and you might change...</td>\n",
       "      <td>Drive</td>\n",
       "    </tr>\n",
       "    <tr>\n",
       "      <th>30273</th>\n",
       "      <td>5d9304924adb12ac9f6d8ed8</td>\n",
       "      <td>2014-10-29</td>\n",
       "      <td>lifestyle.motors</td>\n",
       "      <td>First Drive: New Opel Corsa steers in right di...</td>\n",
       "      <td>Drive</td>\n",
       "    </tr>\n",
       "    <tr>\n",
       "      <th>30274</th>\n",
       "      <td>5d9304914adb12ac9f6c6bc6</td>\n",
       "      <td>2013-07-22</td>\n",
       "      <td>business</td>\n",
       "      <td>Drive to crack hydrogen fuel cell technology p...</td>\n",
       "      <td>Drive</td>\n",
       "    </tr>\n",
       "    <tr>\n",
       "      <th>30275</th>\n",
       "      <td>5d9304914adb12ac9f6c58ed</td>\n",
       "      <td>2013-06-20</td>\n",
       "      <td>news.education</td>\n",
       "      <td>Drive to attract students undermines academic ...</td>\n",
       "      <td>Drive</td>\n",
       "    </tr>\n",
       "    <tr>\n",
       "      <th>30276</th>\n",
       "      <td>5d9304914adb12ac9f6c42fb</td>\n",
       "      <td>2013-05-14</td>\n",
       "      <td>lifestyle.motors</td>\n",
       "      <td>First Drive: The 2008 promises to make it a go...</td>\n",
       "      <td>Drive</td>\n",
       "    </tr>\n",
       "    <tr>\n",
       "      <th>30277</th>\n",
       "      <td>5d9304904adb12ac9f68f8f5</td>\n",
       "      <td>2010-02-02</td>\n",
       "      <td>news</td>\n",
       "      <td>Drive to rebuild burned-out 'Boyne' cottage af...</td>\n",
       "      <td>Drive</td>\n",
       "    </tr>\n",
       "    <tr>\n",
       "      <th>30278</th>\n",
       "      <td>5d93048f4adb12ac9f655162</td>\n",
       "      <td>2006-08-22</td>\n",
       "      <td>news</td>\n",
       "      <td>Drive to inform pupils of school bus seat-belt...</td>\n",
       "      <td>Drive</td>\n",
       "    </tr>\n",
       "    <tr>\n",
       "      <th>30279</th>\n",
       "      <td>5d93048e4adb12ac9f61fcf2</td>\n",
       "      <td>2003-01-23</td>\n",
       "      <td>news</td>\n",
       "      <td>Drive to restart peace process starts now; say...</td>\n",
       "      <td>Drive</td>\n",
       "    </tr>\n",
       "    <tr>\n",
       "      <th>30280</th>\n",
       "      <td>5d93048d4adb12ac9f5d29f4</td>\n",
       "      <td>1997-10-11</td>\n",
       "      <td>news</td>\n",
       "      <td>Drive for the Aras picks up pace; but no clear...</td>\n",
       "      <td>Drive</td>\n",
       "    </tr>\n",
       "    <tr>\n",
       "      <th>30281</th>\n",
       "      <td>5d93048c4adb12ac9f5d19b7</td>\n",
       "      <td>1997-09-13</td>\n",
       "      <td>culture</td>\n",
       "      <td>Drive for big bucks could leave Irish hospital...</td>\n",
       "      <td>Drive</td>\n",
       "    </tr>\n",
       "    <tr>\n",
       "      <th>30282</th>\n",
       "      <td>5d9304924adb12ac9f6f4489</td>\n",
       "      <td>2016-07-20</td>\n",
       "      <td>lifestyle.motors</td>\n",
       "      <td>First Drive: Kia's hybrid-powered Niro moves i...</td>\n",
       "      <td>Drive</td>\n",
       "    </tr>\n",
       "    <tr>\n",
       "      <th>30283</th>\n",
       "      <td>5d9304924adb12ac9f6f2f69</td>\n",
       "      <td>2016-06-20</td>\n",
       "      <td>lifestyle.motors</td>\n",
       "      <td>First Drive: Porsche 911 R - the best German o...</td>\n",
       "      <td>Drive</td>\n",
       "    </tr>\n",
       "    <tr>\n",
       "      <th>30284</th>\n",
       "      <td>5d9304924adb12ac9f6ed48e</td>\n",
       "      <td>2016-02-13</td>\n",
       "      <td>culture.books</td>\n",
       "      <td>Prosperity Drive by Mary Morrissy review: clea...</td>\n",
       "      <td>Drive</td>\n",
       "    </tr>\n",
       "    <tr>\n",
       "      <th>30285</th>\n",
       "      <td>5d9304924adb12ac9f6e6399</td>\n",
       "      <td>2015-09-02</td>\n",
       "      <td>lifestyle.motors</td>\n",
       "      <td>First Drive: Mitsubishi Outlander diesel peeps...</td>\n",
       "      <td>Drive</td>\n",
       "    </tr>\n",
       "    <tr>\n",
       "      <th>30286</th>\n",
       "      <td>5d9304924adb12ac9f6e43bc</td>\n",
       "      <td>2015-07-15</td>\n",
       "      <td>lifestyle.motors</td>\n",
       "      <td>First Drive: Skoda Superb Combi is big on spac...</td>\n",
       "      <td>Drive</td>\n",
       "    </tr>\n",
       "    <tr>\n",
       "      <th>30287</th>\n",
       "      <td>5d9304924adb12ac9f6e1dbe</td>\n",
       "      <td>2015-05-22</td>\n",
       "      <td>lifestyle.motors</td>\n",
       "      <td>First Drive: New Audi Q7 is less bold but a wi...</td>\n",
       "      <td>Drive</td>\n",
       "    </tr>\n",
       "    <tr>\n",
       "      <th>30288</th>\n",
       "      <td>5d9304924adb12ac9f6da780</td>\n",
       "      <td>2014-12-03</td>\n",
       "      <td>lifestyle.motors</td>\n",
       "      <td>First Drive: Citroën C1 brings a strange sense...</td>\n",
       "      <td>Drive</td>\n",
       "    </tr>\n",
       "    <tr>\n",
       "      <th>30289</th>\n",
       "      <td>5d9304914adb12ac9f6d2b2e</td>\n",
       "      <td>2014-05-28</td>\n",
       "      <td>lifestyle.motors</td>\n",
       "      <td>First Drive: Two sides to the story with BMW's...</td>\n",
       "      <td>Drive</td>\n",
       "    </tr>\n",
       "    <tr>\n",
       "      <th>30290</th>\n",
       "      <td>5d9304914adb12ac9f6d0f78</td>\n",
       "      <td>2014-04-15</td>\n",
       "      <td>lifestyle.motors</td>\n",
       "      <td>Drive it Like Beckham: soccer star sells BMW o...</td>\n",
       "      <td>Drive</td>\n",
       "    </tr>\n",
       "    <tr>\n",
       "      <th>30291</th>\n",
       "      <td>5d9304914adb12ac9f6c532a</td>\n",
       "      <td>2013-06-11</td>\n",
       "      <td>lifestyle.motors</td>\n",
       "      <td>First Drive: Citroën C4 Picasso draws on its s...</td>\n",
       "      <td>Drive</td>\n",
       "    </tr>\n",
       "    <tr>\n",
       "      <th>30292</th>\n",
       "      <td>5d9304924adb12ac9f6e9a55</td>\n",
       "      <td>2015-11-18</td>\n",
       "      <td>lifestyle.motors</td>\n",
       "      <td>First Drive: Heavyweight Audi Q7 e-tron packs ...</td>\n",
       "      <td>Drive</td>\n",
       "    </tr>\n",
       "    <tr>\n",
       "      <th>30293</th>\n",
       "      <td>5d9304924adb12ac9f6e81b4</td>\n",
       "      <td>2015-10-14</td>\n",
       "      <td>lifestyle.motors</td>\n",
       "      <td>First Drive: New Aston Martin DB9 is beautiful...</td>\n",
       "      <td>Drive</td>\n",
       "    </tr>\n",
       "    <tr>\n",
       "      <th>30294</th>\n",
       "      <td>5d9304924adb12ac9f6f98fb</td>\n",
       "      <td>2016-11-22</td>\n",
       "      <td>lifestyle.motors</td>\n",
       "      <td>First Drive: Toyota's new C-HR cuts a visual d...</td>\n",
       "      <td>Drive</td>\n",
       "    </tr>\n",
       "    <tr>\n",
       "      <th>30295</th>\n",
       "      <td>5d9304924adb12ac9f6e685c</td>\n",
       "      <td>2015-09-09</td>\n",
       "      <td>lifestyle.motors</td>\n",
       "      <td>First Drive: BMW's tech-loaded 7 series takes ...</td>\n",
       "      <td>Drive</td>\n",
       "    </tr>\n",
       "    <tr>\n",
       "      <th>30296</th>\n",
       "      <td>5d9304914adb12ac9f6c71f6</td>\n",
       "      <td>2013-08-01</td>\n",
       "      <td>sport</td>\n",
       "      <td>Drive Time can make amends for last year's fal...</td>\n",
       "      <td>Drive</td>\n",
       "    </tr>\n",
       "    <tr>\n",
       "      <th>30297</th>\n",
       "      <td>5d9304914adb12ac9f6c4375</td>\n",
       "      <td>2013-05-15</td>\n",
       "      <td>lifestyle.motors</td>\n",
       "      <td>First Drive: The new Range Rover Sport gets th...</td>\n",
       "      <td>Drive</td>\n",
       "    </tr>\n",
       "    <tr>\n",
       "      <th>30298</th>\n",
       "      <td>5d9304904adb12ac9f66f4b7</td>\n",
       "      <td>2008-04-10</td>\n",
       "      <td>news</td>\n",
       "      <td>Tasters reveal a variety of inspiration</td>\n",
       "      <td>Taster</td>\n",
       "    </tr>\n",
       "    <tr>\n",
       "      <th>30299</th>\n",
       "      <td>5d93048d4adb12ac9f5eb73c</td>\n",
       "      <td>1999-08-07</td>\n",
       "      <td>news</td>\n",
       "      <td>Home Taster's Starter Kit</td>\n",
       "      <td>Taster</td>\n",
       "    </tr>\n",
       "    <tr>\n",
       "      <th>30300</th>\n",
       "      <td>5d93048e4adb12ac9f5ff088</td>\n",
       "      <td>2000-12-29</td>\n",
       "      <td>business</td>\n",
       "      <td>Taster of economic growth whets the appetites ...</td>\n",
       "      <td>Taster</td>\n",
       "    </tr>\n",
       "  </tbody>\n",
       "</table>\n",
       "<p>30301 rows × 5 columns</p>\n",
       "</div>"
      ],
      "text/plain": [
       "                            _id publish_date    headline_category  \\\n",
       "0      5d93048d4adb12ac9f5e1d3b   1998-12-10      opinion.letters   \n",
       "1      5d9304924adb12ac9f6d4cc9   2014-07-17  business.technology   \n",
       "2      5d9304904adb12ac9f692d79   2010-04-07        culture.books   \n",
       "3      5d93048f4adb12ac9f63ffd2   2005-03-25                 news   \n",
       "4      5d9304904adb12ac9f68fc3a   2010-02-05              opinion   \n",
       "...                         ...          ...                  ...   \n",
       "30296  5d9304914adb12ac9f6c71f6   2013-08-01                sport   \n",
       "30297  5d9304914adb12ac9f6c4375   2013-05-15     lifestyle.motors   \n",
       "30298  5d9304904adb12ac9f66f4b7   2008-04-10                 news   \n",
       "30299  5d93048d4adb12ac9f5eb73c   1999-08-07                 news   \n",
       "30300  5d93048e4adb12ac9f5ff088   2000-12-29             business   \n",
       "\n",
       "                                           headline_text     company  \n",
       "0                                 Credit For Tax Credits  Tax Credit  \n",
       "1                   Lucidity Digital rebranded as Isobar       Lucid  \n",
       "2        Lucid and in-depth portrait of troubled country       Lucid  \n",
       "3                   Pope weak but 'Lucid' on Good Friday       Lucid  \n",
       "4      Lucid grassroots account of 1916 Rising explor...       Lucid  \n",
       "...                                                  ...         ...  \n",
       "30296  Drive Time can make amends for last year's fal...       Drive  \n",
       "30297  First Drive: The new Range Rover Sport gets th...       Drive  \n",
       "30298            Tasters reveal a variety of inspiration      Taster  \n",
       "30299                          Home Taster's Starter Kit      Taster  \n",
       "30300  Taster of economic growth whets the appetites ...      Taster  \n",
       "\n",
       "[30301 rows x 5 columns]"
      ]
     },
     "execution_count": 3,
     "metadata": {},
     "output_type": "execute_result"
    }
   ],
   "source": [
    "import pymongo\n",
    "mongo = pymongo.mongo_client.MongoClient()\n",
    "db = mongo.ey\n",
    "collection = db.headlines\n",
    "collection.insert_many([row.to_dict()\n",
    "                       for (index,row) in headlines.iterrows()])\n",
    "collection.create_index([('headline_text',pymongo.TEXT)])\n",
    "\n",
    "data = []\n",
    "for name in companies['name']:\n",
    "    for headline in collection.find({'$text':{'$search':'\"{}\"'.format(name),\n",
    "                                              '$caseSensitive':True}}):\n",
    "        headline['company']=name\n",
    "        data.append(headline)\n",
    "matched_headlines = pandas.DataFrame(data)\n",
    "headlines['publish_date']=pandas.to_datetime(headlines['publish_date'],format='%Y%m%d')\n",
    "matched_headlines"
   ]
  },
  {
   "cell_type": "code",
   "execution_count": 4,
   "metadata": {},
   "outputs": [
    {
     "data": {
      "text/plain": [
       "United         4776\n",
       "99             2081\n",
       "Collins        1004\n",
       "Ranger          914\n",
       "Roche           901\n",
       "               ... \n",
       "EisnerAmper       1\n",
       "7-Eleven          1\n",
       "Primer            1\n",
       "Automattic        1\n",
       "IMS Maxims        1\n",
       "Name: company, Length: 606, dtype: int64"
      ]
     },
     "execution_count": 4,
     "metadata": {},
     "output_type": "execute_result"
    }
   ],
   "source": [
    "matched_headlines['company'].value_counts()"
   ]
  },
  {
   "cell_type": "markdown",
   "metadata": {},
   "source": [
    "2/ Propose 3 features of interest and 2 dependent variables"
   ]
  },
  {
   "cell_type": "markdown",
   "metadata": {},
   "source": [
    "## Features of interest\n",
    "1. Date\n",
    "2. Headline category\n",
    "3. Keywords from company description\n",
    "\n",
    "## Targets\n",
    "1. Number of mentions of company\n",
    "2. Keywords in headline\n",
    "\n",
    "Significance of keywords will be calculated with a LogEntropy model."
   ]
  },
  {
   "cell_type": "markdown",
   "metadata": {},
   "source": [
    "# Exploratory Data Analysis:\n",
    "\n",
    "Review the features and targets"
   ]
  },
  {
   "cell_type": "code",
   "execution_count": 5,
   "metadata": {},
   "outputs": [
    {
     "data": {
      "text/plain": [
       "<matplotlib.axes._subplots.AxesSubplot at 0x7f35489ad6a0>"
      ]
     },
     "execution_count": 5,
     "metadata": {},
     "output_type": "execute_result"
    },
    {
     "data": {
      "image/png": "[encoded data removed]",
      "text/plain": [
       "<Figure size 432x288 with 1 Axes>"
      ]
     },
     "metadata": {
      "needs_background": "light"
     },
     "output_type": "display_data"
    }
   ],
   "source": [
    "%matplotlib inline\n",
    "import gensim\n",
    "\n",
    "\n",
    "\n",
    "headlines['publish_date'].value_counts().sort_index().plot.line()"
   ]
  },
  {
   "cell_type": "code",
   "execution_count": 6,
   "metadata": {},
   "outputs": [
    {
     "data": {
      "text/plain": [
       "<matplotlib.axes._subplots.AxesSubplot at 0x7f3548860208>"
      ]
     },
     "execution_count": 6,
     "metadata": {},
     "output_type": "execute_result"
    },
    {
     "data": {
      "image/png": "[encoded data removed]",
      "text/plain": [
       "<Figure size 432x288 with 1 Axes>"
      ]
     },
     "metadata": {
      "needs_background": "light"
     },
     "output_type": "display_data"
    }
   ],
   "source": [
    "matched_headlines['publish_date'].value_counts().sort_index().plot.line()"
   ]
  },
  {
   "cell_type": "code",
   "execution_count": 7,
   "metadata": {},
   "outputs": [
    {
     "data": {
      "text/plain": [
       "<matplotlib.axes._subplots.AxesSubplot at 0x7f3548136940>"
      ]
     },
     "execution_count": 7,
     "metadata": {},
     "output_type": "execute_result"
    },
    {
     "data": {
      "image/png": "[encoded data removed]",
      "text/plain": [
       "<Figure size 432x288 with 1 Axes>"
      ]
     },
     "metadata": {
      "needs_background": "light"
     },
     "output_type": "display_data"
    }
   ],
   "source": [
    "headlines['headline_category'].value_counts().nlargest(10).plot.bar()"
   ]
  },
  {
   "cell_type": "code",
   "execution_count": 8,
   "metadata": {},
   "outputs": [
    {
     "data": {
      "text/plain": [
       "<matplotlib.axes._subplots.AxesSubplot at 0x7f35480c4860>"
      ]
     },
     "execution_count": 8,
     "metadata": {},
     "output_type": "execute_result"
    },
    {
     "data": {
      "image/png": "[encoded data removed]",
      "text/plain": [
       "<Figure size 432x288 with 1 Axes>"
      ]
     },
     "metadata": {
      "needs_background": "light"
     },
     "output_type": "display_data"
    }
   ],
   "source": [
    "matched_headlines['headline_category'].value_counts().nlargest(10).plot.bar()"
   ]
  },
  {
   "cell_type": "code",
   "execution_count": 11,
   "metadata": {},
   "outputs": [
    {
     "data": {
      "text/plain": [
       "<matplotlib.axes._subplots.AxesSubplot at 0x7f35173fc198>"
      ]
     },
     "execution_count": 11,
     "metadata": {},
     "output_type": "execute_result"
    },
    {
     "data": {
      "image/png": "[encoded data removed]",
      "text/plain": [
       "<Figure size 432x288 with 1 Axes>"
      ]
     },
     "metadata": {
      "needs_background": "light"
     },
     "output_type": "display_data"
    }
   ],
   "source": [
    "import collections\n",
    "import nltk\n",
    "class Corpus(object):\n",
    "    def __init__(self,*args):\n",
    "        self.stopwords = nltk.corpus.stopwords.words('english')\n",
    "        all_data = pandas.concat(args).str.split()\n",
    "        self.dictionary = gensim.corpora.dictionary.Dictionary([self.filter_words(doc) for doc in all_data])\n",
    "        self.dictionary.filter_extremes()\n",
    "        self.model = gensim.models.logentropy_model.LogEntropyModel([self.dictionary.doc2bow(self.filter_words(doc))\n",
    "                                                                     for doc in all_data])\n",
    "        self.lsi = gensim\n",
    "        \n",
    "    def filter_words(self,document):\n",
    "        return [word for word in document\n",
    "                if word.lower() not in self.stopwords]\n",
    "        \n",
    "    def __call__(self,column):\n",
    "        return self.model[[self.dictionary.doc2bow(self.filter_words(doc))\n",
    "                           for doc in column.str.split()]]\n",
    "    \n",
    "logent = Corpus(companies['description'],headlines['headline_text'])\n",
    "significance = collections.defaultdict(float)\n",
    "def significant_words(corpus):\n",
    "    for doc in logent(corpus):\n",
    "        for (n,h) in doc:\n",
    "            significance[n]+=h\n",
    "    return pandas.Series({logent.dictionary[n]:h\n",
    "                          for (n,h) in significance.items()})\n",
    "\n",
    "significant_words(companies['description']).nlargest(20).plot.barh()"
   ]
  },
  {
   "cell_type": "code",
   "execution_count": 12,
   "metadata": {},
   "outputs": [
    {
     "data": {
      "text/plain": [
       "<matplotlib.axes._subplots.AxesSubplot at 0x7f3509807a20>"
      ]
     },
     "execution_count": 12,
     "metadata": {},
     "output_type": "execute_result"
    },
    {
     "data": {
      "image/png": "[encoded data removed]",
      "text/plain": [
       "<Figure size 432x288 with 1 Axes>"
      ]
     },
     "metadata": {
      "needs_background": "light"
     },
     "output_type": "display_data"
    }
   ],
   "source": [
    "significant_words(headlines['headline_text']).nlargest(20).plot.barh()"
   ]
  },
  {
   "cell_type": "code",
   "execution_count": 13,
   "metadata": {},
   "outputs": [
    {
     "data": {
      "text/plain": [
       "<matplotlib.axes._subplots.AxesSubplot at 0x7f351608fe48>"
      ]
     },
     "execution_count": 13,
     "metadata": {},
     "output_type": "execute_result"
    },
    {
     "data": {
      "image/png": "[encoded data removed]",
      "text/plain": [
       "<Figure size 432x288 with 1 Axes>"
      ]
     },
     "metadata": {
      "needs_background": "light"
     },
     "output_type": "display_data"
    }
   ],
   "source": [
    "significant_words(matched_headlines['headline_text']).nlargest(20).plot.barh()"
   ]
  },
  {
   "cell_type": "code",
   "execution_count": 14,
   "metadata": {},
   "outputs": [
    {
     "data": {
      "text/plain": [
       "<matplotlib.axes._subplots.AxesSubplot at 0x7f34f96f61d0>"
      ]
     },
     "execution_count": 14,
     "metadata": {},
     "output_type": "execute_result"
    },
    {
     "data": {
      "image/png": "[encoded data removed]",
      "text/plain": [
       "<Figure size 432x288 with 1 Axes>"
      ]
     },
     "metadata": {
      "needs_background": "light"
     },
     "output_type": "display_data"
    }
   ],
   "source": [
    "ratios = significant_words(matched_headlines['headline_text'])/significant_words(headlines['headline_text'])\n",
    "ratios.nlargest(20).plot.barh()"
   ]
  },
  {
   "cell_type": "code",
   "execution_count": 15,
   "metadata": {},
   "outputs": [
    {
     "data": {
      "text/plain": [
       "<matplotlib.axes._subplots.AxesSubplot at 0x7f3534b4d320>"
      ]
     },
     "execution_count": 15,
     "metadata": {},
     "output_type": "execute_result"
    },
    {
     "data": {
      "image/png": "[encoded data removed]",
      "text/plain": [
       "<Figure size 432x288 with 1 Axes>"
      ]
     },
     "metadata": {
      "needs_background": "light"
     },
     "output_type": "display_data"
    }
   ],
   "source": [
    "significant_words(headlines.loc[headlines['headline_category']=='business']['headline_text']).nlargest(20).plot.barh()"
   ]
  },
  {
   "cell_type": "code",
   "execution_count": 16,
   "metadata": {},
   "outputs": [
    {
     "data": {
      "text/plain": [
       "<matplotlib.axes._subplots.AxesSubplot at 0x7f353e99f0b8>"
      ]
     },
     "execution_count": 16,
     "metadata": {},
     "output_type": "execute_result"
    },
    {
     "data": {
      "image/png": "[encoded data removed]",
      "text/plain": [
       "<Figure size 432x288 with 1 Axes>"
      ]
     },
     "metadata": {
      "needs_background": "light"
     },
     "output_type": "display_data"
    }
   ],
   "source": [
    "significant_words(matched_headlines.loc[matched_headlines['headline_category']=='business']['headline_text']).nlargest(20).plot.barh()"
   ]
  },
  {
   "cell_type": "markdown",
   "metadata": {},
   "source": [
    "# Propose a modelling technique and the reasons behind your choice\n",
    "Classification\n",
    "Regression\n",
    "Clustering\n",
    "Time Series Forecast\n"
   ]
  },
  {
   "cell_type": "markdown",
   "metadata": {},
   "source": [
    "Overall, we see little difference between the most significant words taken from headlines, whether they are taken form the overall set, from the matched set, or just from business headlines. However, by using clustering we can identify groups within the headlines that are significantly different. We can similarly identify groups of companies  by similarities in their descriptions. For each of these clusterings, we can investigate their most significant words, their timelines, their relationships to categories, and the possiblitity of predicting headline cluster from company cluster.\n",
    "\n",
    "Before clustering, we need to reduce the dimensionality of the data. I will use LSI for this."
   ]
  },
  {
   "cell_type": "markdown",
   "metadata": {},
   "source": [
    "1/ Prepare your datasets "
   ]
  },
  {
   "cell_type": "code",
   "execution_count": 18,
   "metadata": {},
   "outputs": [],
   "source": [
    "lsi = gensim.models.LsiModel(logent(pandas.concat([headlines['headline_text'],companies['description']])))\n",
    "\n",
    "headline_vectors = pandas.DataFrame(gensim.matutils.corpus2dense(lsi[logent(matched_headlines['headline_text'])],lsi.num_topics).T,\n",
    "                                    index = matched_headlines.index)\n",
    "\n",
    "description_vectors = pandas.DataFrame(gensim.matutils.corpus2dense(lsi[logent(companies['description'])],lsi.num_topics).T,\n",
    "                                       index = companies['name'])"
   ]
  },
  {
   "cell_type": "markdown",
   "metadata": {},
   "source": [
    "2/ Propose a list of algorithms and how to evaluate them systematically"
   ]
  },
  {
   "cell_type": "markdown",
   "metadata": {},
   "source": [
    "We wish to obtain an initially unknown number of clusters from high-dimensional data. For this, hierarchical clustering will be suitable. "
   ]
  },
  {
   "cell_type": "code",
   "execution_count": 20,
   "metadata": {},
   "outputs": [
    {
     "data": {
      "text/plain": [
       "<matplotlib.axes._subplots.AxesSubplot at 0x7f35163e7ef0>"
      ]
     },
     "execution_count": 20,
     "metadata": {},
     "output_type": "execute_result"
    },
    {
     "data": {
      "image/png": "[encoded data removed]",
      "text/plain": [
       "<Figure size 432x288 with 1 Axes>"
      ]
     },
     "metadata": {
      "needs_background": "light"
     },
     "output_type": "display_data"
    }
   ],
   "source": [
    "import scipy.cluster.hierarchy\n",
    "import sklearn\n",
    "import sklearn.cluster\n",
    "import matplotlib\n",
    "\n",
    "def dendrogram(data):\n",
    "    result=matplotlib.pyplot.gca()\n",
    "    scipy.cluster.hierarchy.dendrogram(scipy.cluster.hierarchy.ward(data.values),ax=result)\n",
    "    return result\n",
    "    \n",
    "dendrogram(headline_vectors)   "
   ]
  },
  {
   "cell_type": "code",
   "execution_count": 21,
   "metadata": {},
   "outputs": [
    {
     "data": {
      "text/plain": [
       "<matplotlib.axes._subplots.AxesSubplot at 0x7f3537e380f0>"
      ]
     },
     "execution_count": 21,
     "metadata": {},
     "output_type": "execute_result"
    },
    {
     "data": {
      "image/png": "[encoded data removed]",
      "text/plain": [
       "<Figure size 432x288 with 1 Axes>"
      ]
     },
     "metadata": {
      "needs_background": "light"
     },
     "output_type": "display_data"
    }
   ],
   "source": [
    "dendrogram(description_vectors)"
   ]
  },
  {
   "cell_type": "markdown",
   "metadata": {},
   "source": [
    "We are seeing small numbers of clusters in each case, one of which is very large and messy, and thus not likely to be useful. Let us see if combining headlines per company makes any difference."
   ]
  },
  {
   "cell_type": "code",
   "execution_count": 23,
   "metadata": {},
   "outputs": [
    {
     "data": {
      "text/plain": [
       "<matplotlib.axes._subplots.AxesSubplot at 0x7f353b4fdcf8>"
      ]
     },
     "execution_count": 23,
     "metadata": {},
     "output_type": "execute_result"
    },
    {
     "data": {
      "image/png": "[encoded data removed]",
      "text/plain": [
       "<Figure size 432x288 with 1 Axes>"
      ]
     },
     "metadata": {
      "needs_background": "light"
     },
     "output_type": "display_data"
    }
   ],
   "source": [
    "headlines_per_company = headline_vectors.merge(matched_headlines['company'],\n",
    "                                              left_index=True,\n",
    "                                              right_index=True).groupby('company').sum()\n",
    "dendrogram(headlines_per_company)"
   ]
  },
  {
   "cell_type": "code",
   "execution_count": 27,
   "metadata": {},
   "outputs": [
    {
     "data": {
      "text/plain": [
       "<matplotlib.axes._subplots.AxesSubplot at 0x7f353bb647b8>"
      ]
     },
     "execution_count": 27,
     "metadata": {},
     "output_type": "execute_result"
    },
    {
     "data": {
      "image/png": "[encoded data removed]",
      "text/plain": [
       "<Figure size 432x288 with 1 Axes>"
      ]
     },
     "metadata": {
      "needs_background": "light"
     },
     "output_type": "display_data"
    }
   ],
   "source": [
    "headlines_per_day = headline_vectors.merge(matched_headlines['publish_date'],\n",
    "                                           left_index=True,\n",
    "                                           right_index=True).groupby('publish_date').sum()\n",
    "dendrogram(headlines_per_day)"
   ]
  },
  {
   "cell_type": "markdown",
   "metadata": {},
   "source": [
    "3/ Choose an algorythm and explain why"
   ]
  },
  {
   "cell_type": "markdown",
   "metadata": {},
   "source": [
    "Quite frankly, this is getting me nowhere and I need to change tack just so that I have some results at all. I will try to predict headline category from the LSI vectors of the headlines. For this I will use Random Forests, because the headline category is highly unbalanced. I will train on a randomly chosen 70% of the dataset and test on the rest, using Cohen's kappa as the metric, since this is suitable for unbalanced datasets"
   ]
  },
  {
   "cell_type": "markdown",
   "metadata": {},
   "source": [
    "4/ Present the results and possible improvements"
   ]
  },
  {
   "cell_type": "code",
   "execution_count": 28,
   "metadata": {},
   "outputs": [
    {
     "name": "stderr",
     "output_type": "stream",
     "text": [
      "/usr/local/lib/python3.7/dist-packages/sklearn/ensemble/forest.py:245: FutureWarning: The default value of n_estimators will change from 10 in version 0.20 to 100 in 0.22.\n",
      "  \"10 in version 0.20 to 100 in 0.22.\", FutureWarning)\n"
     ]
    },
    {
     "data": {
      "text/plain": [
       "0.2498141479624686"
      ]
     },
     "execution_count": 28,
     "metadata": {},
     "output_type": "execute_result"
    }
   ],
   "source": [
    "import random\n",
    "import sklearn.ensemble\n",
    "import sklearn.metrics\n",
    "\n",
    "classifier = sklearn.ensemble.RandomForestClassifier()\n",
    "n=matched_headlines.shape[0]\n",
    "training_dataset = random.sample(range(n),n*7//10)\n",
    "test_dataset = [i for i in range(n) if i not in training_dataset]\n",
    "classifier.fit(headline_vectors.loc[training_dataset].values,matched_headlines.loc[training_dataset,'headline_category'].values)\n",
    "predictions = classifier.predict(headline_vectors.loc[test_dataset])\n",
    "sklearn.metrics.cohen_kappa_score(matched_headlines.loc[test_dataset,'headline_category'].values,\n",
    "                                  predictions)"
   ]
  },
  {
   "cell_type": "markdown",
   "metadata": {},
   "source": [
    "5/ Extra: Build a pipeline / storage utility for the model"
   ]
  },
  {
   "cell_type": "code",
   "execution_count": null,
   "metadata": {},
   "outputs": [],
   "source": []
  }
 ],
 "metadata": {
  "kernelspec": {
   "display_name": "Python 3",
   "language": "python",
   "name": "python3"
  },
  "language_info": {
   "codemirror_mode": {
    "name": "ipython",
    "version": 3
   },
   "file_extension": ".py",
   "mimetype": "text/x-python",
   "name": "python",
   "nbconvert_exporter": "python",
   "pygments_lexer": "ipython3",
   "version": "3.7.3"
  }
 },
 "nbformat": 4,
 "nbformat_minor": 2
}
